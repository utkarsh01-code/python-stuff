{
 "cells": [
  {
   "cell_type": "code",
   "execution_count": 1,
   "id": "146776ec",
   "metadata": {},
   "outputs": [
    {
     "data": {
      "text/plain": [
       "2"
      ]
     },
     "execution_count": 1,
     "metadata": {},
     "output_type": "execute_result"
    }
   ],
   "source": [
    "1+1"
   ]
  },
  {
   "cell_type": "code",
   "execution_count": 2,
   "id": "e815ada9",
   "metadata": {},
   "outputs": [],
   "source": [
    "# print a board\n",
    "from IPython.display import clear_output\n",
    "\n",
    "def board_tictac(board):\n",
    "    clear_output()\n",
    "    print('   |   |')\n",
    "    print(' '+board[1]+' | '+board[2]+' | '+board[3])\n",
    "    print('   |   |')\n",
    "    print('-----------')\n",
    "    print(' '+board[4]+' | '+board[5]+' | '+board[6])\n",
    "    print('   |   |')\n",
    "    print('-----------')\n",
    "    print(' '+board[7]+' | '+board[8]+' | '+board[9])\n",
    "    print('   |   |')"
   ]
  },
  {
   "cell_type": "code",
   "execution_count": 3,
   "id": "19f2a632",
   "metadata": {},
   "outputs": [
    {
     "name": "stdout",
     "output_type": "stream",
     "text": [
      "   |   |\n",
      "  |  | \n",
      "   |   |\n",
      "-----------\n",
      "  |  | \n",
      "   |   |\n",
      "-----------\n",
      "  |  | \n",
      "   |   |\n"
     ]
    }
   ],
   "source": [
    "test_board = ['']*10\n",
    "board_tictac(test_board)"
   ]
  },
  {
   "cell_type": "code",
   "execution_count": 4,
   "id": "834e9691",
   "metadata": {},
   "outputs": [],
   "source": [
    "def player_input():\n",
    "    marker = ''\n",
    "    while marker != 'x' and marker != 'o':\n",
    "        marker = input ( \"player1 choose x or o:\" )\n",
    "    player1 = marker\n",
    "    if player1 == 'x':\n",
    "        player2 = 'o'\n",
    "    else: \n",
    "        player2 = 'x'\n",
    "    return(player1,player2)    "
   ]
  },
  {
   "cell_type": "code",
   "execution_count": 5,
   "id": "dadcd028",
   "metadata": {
    "scrolled": false
   },
   "outputs": [
    {
     "name": "stdout",
     "output_type": "stream",
     "text": [
      "player1 choose x or o:x\n"
     ]
    },
    {
     "data": {
      "text/plain": [
       "('x', 'o')"
      ]
     },
     "execution_count": 5,
     "metadata": {},
     "output_type": "execute_result"
    }
   ],
   "source": [
    "player_input()"
   ]
  },
  {
   "cell_type": "code",
   "execution_count": null,
   "id": "517213ce",
   "metadata": {},
   "outputs": [],
   "source": []
  },
  {
   "cell_type": "code",
   "execution_count": null,
   "id": "030c824c",
   "metadata": {},
   "outputs": [],
   "source": []
  },
  {
   "cell_type": "code",
   "execution_count": 6,
   "id": "94707961",
   "metadata": {},
   "outputs": [
    {
     "name": "stdout",
     "output_type": "stream",
     "text": [
      "player1 choose x or o:o\n"
     ]
    },
    {
     "data": {
      "text/plain": [
       "('o', 'x')"
      ]
     },
     "execution_count": 6,
     "metadata": {},
     "output_type": "execute_result"
    }
   ],
   "source": [
    "player_input()"
   ]
  },
  {
   "cell_type": "code",
   "execution_count": 7,
   "id": "1c51f83d",
   "metadata": {},
   "outputs": [
    {
     "name": "stdout",
     "output_type": "stream",
     "text": [
      "player1 choose x or o:x\n"
     ]
    },
    {
     "data": {
      "text/plain": [
       "('x', 'o')"
      ]
     },
     "execution_count": 7,
     "metadata": {},
     "output_type": "execute_result"
    }
   ],
   "source": [
    "player_input()"
   ]
  },
  {
   "cell_type": "code",
   "execution_count": 8,
   "id": "5aa99200",
   "metadata": {},
   "outputs": [],
   "source": [
    "def place_marker(board,marker,position):\n",
    "    board[position] = marker\n",
    "    "
   ]
  },
  {
   "cell_type": "code",
   "execution_count": 9,
   "id": "09f3da98",
   "metadata": {},
   "outputs": [
    {
     "data": {
      "text/plain": [
       "['#', 'x', 'o', 'x', 'o', 'x', 'o', 'x', '0', 'x']"
      ]
     },
     "execution_count": 9,
     "metadata": {},
     "output_type": "execute_result"
    }
   ],
   "source": [
    "test_board = ['#','x','o','x','o','x','o','x','0','x']\n",
    "test_board"
   ]
  },
  {
   "cell_type": "code",
   "execution_count": 10,
   "id": "e7a86335",
   "metadata": {},
   "outputs": [
    {
     "name": "stdout",
     "output_type": "stream",
     "text": [
      "   |   |\n",
      " x | o | x\n",
      "   |   |\n",
      "-----------\n",
      " o | x | o\n",
      "   |   |\n",
      "-----------\n",
      " x | $ | x\n",
      "   |   |\n"
     ]
    }
   ],
   "source": [
    "place_marker(test_board,'$',8)\n",
    "board_tictac(test_board)"
   ]
  },
  {
   "cell_type": "code",
   "execution_count": 11,
   "id": "8d200eb1",
   "metadata": {},
   "outputs": [
    {
     "data": {
      "text/plain": [
       "True"
      ]
     },
     "execution_count": 11,
     "metadata": {},
     "output_type": "execute_result"
    }
   ],
   "source": [
    " def win_check(board,mark):\n",
    "        return((board[1]==board[2]==board[3]==mark) or\n",
    "        (board[4]==board[5]==board[6]==mark) or\n",
    "        (board[7]==board[8]==board[9]==mark) or\n",
    "        (board[1]==board[5]==board[9]==mark) or\n",
    "        (board[3]==board[5]==board[7]==mark) or\n",
    "        (board[1]==board[4]==board[7]==mark) or\n",
    "        (board[2]==board[5]==board[8]==mark) or\n",
    "        (board[3]==board[6]==board[9]==mark))\n",
    "\n",
    "win_check(test_board,'x')\n",
    "\n",
    "\n",
    "\n",
    "\n",
    "             "
   ]
  },
  {
   "cell_type": "code",
   "execution_count": 12,
   "id": "5edccc50",
   "metadata": {},
   "outputs": [],
   "source": [
    "import random\n",
    "def choose_firstplayer():\n",
    "    flip = random.randint(0,1)\n",
    "    if flip == 0:\n",
    "        return 'player 1'\n",
    "    else:\n",
    "        return 'player 2'"
   ]
  },
  {
   "cell_type": "code",
   "execution_count": 13,
   "id": "9f2d2cbf",
   "metadata": {},
   "outputs": [
    {
     "data": {
      "text/plain": [
       "'player 2'"
      ]
     },
     "execution_count": 13,
     "metadata": {},
     "output_type": "execute_result"
    }
   ],
   "source": [
    "choose_firstplayer()"
   ]
  },
  {
   "cell_type": "code",
   "execution_count": 14,
   "id": "0cfb0908",
   "metadata": {},
   "outputs": [],
   "source": [
    "def space_check(board,position):\n",
    "    return  board[position]==' '"
   ]
  },
  {
   "cell_type": "code",
   "execution_count": 15,
   "id": "334feecb",
   "metadata": {},
   "outputs": [
    {
     "data": {
      "text/plain": [
       "False"
      ]
     },
     "execution_count": 15,
     "metadata": {},
     "output_type": "execute_result"
    }
   ],
   "source": [
    "space_check(test_board,5)"
   ]
  },
  {
   "cell_type": "code",
   "execution_count": 16,
   "id": "bbaa9dbe",
   "metadata": {},
   "outputs": [],
   "source": [
    "def full_board_check(board):\n",
    "    for i in range (1,10):\n",
    "        if space_check(board,i):\n",
    "            return False\n",
    "    return True    "
   ]
  },
  {
   "cell_type": "code",
   "execution_count": 17,
   "id": "adfb550c",
   "metadata": {},
   "outputs": [
    {
     "data": {
      "text/plain": [
       "True"
      ]
     },
     "execution_count": 17,
     "metadata": {},
     "output_type": "execute_result"
    }
   ],
   "source": [
    "full_board_check(test_board)"
   ]
  },
  {
   "cell_type": "code",
   "execution_count": 18,
   "id": "271aebef",
   "metadata": {},
   "outputs": [],
   "source": [
    "def player_position_choice(board):\n",
    "    position = 0\n",
    "    while position not in range(1,10) or not space_check(board,position):\n",
    "        position = int(input('choose a position: (1-9)'))\n",
    "    return position"
   ]
  },
  {
   "cell_type": "code",
   "execution_count": 19,
   "id": "80372319",
   "metadata": {},
   "outputs": [],
   "source": [
    "new_board = ['#','o','x','x',' ','x','o',' ',' ','x']"
   ]
  },
  {
   "cell_type": "code",
   "execution_count": 20,
   "id": "0c0d917c",
   "metadata": {},
   "outputs": [
    {
     "name": "stdout",
     "output_type": "stream",
     "text": [
      "choose a position: (1-9)8\n"
     ]
    },
    {
     "data": {
      "text/plain": [
       "8"
      ]
     },
     "execution_count": 20,
     "metadata": {},
     "output_type": "execute_result"
    }
   ],
   "source": [
    "player_position_choice(new_board)"
   ]
  },
  {
   "cell_type": "code",
   "execution_count": 21,
   "id": "368f3d1e",
   "metadata": {},
   "outputs": [],
   "source": [
    "def retry():\n",
    "    choice = input('play again? choose yes or no')\n",
    "    return choice == 'yes'"
   ]
  },
  {
   "cell_type": "code",
   "execution_count": 23,
   "id": "f51e1491",
   "metadata": {},
   "outputs": [
    {
     "name": "stdout",
     "output_type": "stream",
     "text": [
      "play again? choose yes or nono\n"
     ]
    },
    {
     "data": {
      "text/plain": [
       "False"
      ]
     },
     "execution_count": 23,
     "metadata": {},
     "output_type": "execute_result"
    }
   ],
   "source": [
    "retry()"
   ]
  },
  {
   "cell_type": "code",
   "execution_count": null,
   "id": "becf741e",
   "metadata": {},
   "outputs": [
    {
     "name": "stdout",
     "output_type": "stream",
     "text": [
      "   |   |\n",
      " o | o | x\n",
      "   |   |\n",
      "-----------\n",
      " x | x | o\n",
      "   |   |\n",
      "-----------\n",
      " o | x | o\n",
      "   |   |\n",
      "tie game!\n"
     ]
    }
   ],
   "source": [
    "print('welcome to tic tac toe')\n",
    "while True:\n",
    "    the_board = [' ']*10\n",
    "    player1_marker, player2_marker = player_input()\n",
    "    \n",
    "    turn = choose_firstplayer()\n",
    "    print(turn + ' will go first')\n",
    "    \n",
    "    play_game = input('readynto play? y or n?')\n",
    "    if play_game == 'y':\n",
    "        game_on = True\n",
    "    else:\n",
    "        game_on = False\n",
    "    while game_on:\n",
    "        if turn == 'player 1':\n",
    "            board_tictac(the_board)\n",
    "            position = player_position_choice(the_board)\n",
    "            place_marker(the_board,player1_marker,position)\n",
    "            if win_check(the_board,player1_marker):\n",
    "                board_tictac(the_board)\n",
    "                print('player 1 has won!!')\n",
    "                game_on = False\n",
    "            else:\n",
    "                if full_board_check(the_board):\n",
    "                    board_tictac(the_board)\n",
    "                    print('tie game!')\n",
    "                    game_on = False\n",
    "                else:\n",
    "                    turn = 'player 2'\n",
    "        else:\n",
    "            board_tictac(the_board)\n",
    "            position = player_position_choice(the_board)\n",
    "            place_marker(the_board,player2_marker,position)\n",
    "            if win_check(the_board,player2_marker):\n",
    "                board_tictac(the_board)\n",
    "                print('player 2 has won!!')\n",
    "                game_on = False\n",
    "            else:\n",
    "                \n",
    "                if full_board_check(the_board):\n",
    "                    board_tictac(the_board)\n",
    "                    print('tie game!')\n",
    "                    game_on = False\n",
    "                else:\n",
    "                      turn = 'player 1'\n",
    "    if not retry():\n",
    "        break\n",
    "    "
   ]
  },
  {
   "cell_type": "code",
   "execution_count": null,
   "id": "d674172c",
   "metadata": {},
   "outputs": [],
   "source": []
  },
  {
   "cell_type": "code",
   "execution_count": null,
   "id": "2b70a5b7",
   "metadata": {},
   "outputs": [],
   "source": []
  },
  {
   "cell_type": "code",
   "execution_count": null,
   "id": "3202f583",
   "metadata": {},
   "outputs": [],
   "source": []
  }
 ],
 "metadata": {
  "kernelspec": {
   "display_name": "Python 3 (ipykernel)",
   "language": "python",
   "name": "python3"
  },
  "language_info": {
   "codemirror_mode": {
    "name": "ipython",
    "version": 3
   },
   "file_extension": ".py",
   "mimetype": "text/x-python",
   "name": "python",
   "nbconvert_exporter": "python",
   "pygments_lexer": "ipython3",
   "version": "3.9.12"
  }
 },
 "nbformat": 4,
 "nbformat_minor": 5
}
