{
 "cells": [
  {
   "cell_type": "code",
   "execution_count": 5,
   "id": "fb672c69",
   "metadata": {},
   "outputs": [],
   "source": [
    "class line:\n",
    "    def __init__(self,coord1,coord2):\n",
    "        self.coord1 = coord1\n",
    "        self.coord2 = coord2\n",
    "        \n",
    "    def distance(self):\n",
    "        x1,y1 = self.coord1\n",
    "        x2,y2 = self.coord2\n",
    "        return ((x2-x1)**2+(y2-y1)**2)**0.5   \n",
    "    \n",
    "    def slope(self):\n",
    "        x1,y1 = self.coord1\n",
    "        x2,y2 = self.coord2\n",
    "        \n",
    "        return (y2-y1)/(x2-x1)\n",
    "        "
   ]
  },
  {
   "cell_type": "code",
   "execution_count": 6,
   "id": "d1df4cab",
   "metadata": {},
   "outputs": [],
   "source": [
    "c1 = (3,2)\n",
    "c2 = (8,10)\n",
    "\n",
    "   "
   ]
  },
  {
   "cell_type": "code",
   "execution_count": 7,
   "id": "3b20067c",
   "metadata": {},
   "outputs": [],
   "source": [
    " myline = line(c1,c2)     "
   ]
  },
  {
   "cell_type": "code",
   "execution_count": 8,
   "id": "3fe1da96",
   "metadata": {},
   "outputs": [
    {
     "data": {
      "text/plain": [
       "9.433981132056603"
      ]
     },
     "execution_count": 8,
     "metadata": {},
     "output_type": "execute_result"
    }
   ],
   "source": [
    "myline.distance()"
   ]
  },
  {
   "cell_type": "code",
   "execution_count": 9,
   "id": "6684a9cd",
   "metadata": {},
   "outputs": [
    {
     "data": {
      "text/plain": [
       "1.6"
      ]
     },
     "execution_count": 9,
     "metadata": {},
     "output_type": "execute_result"
    }
   ],
   "source": [
    "myline.slope()"
   ]
  },
  {
   "cell_type": "code",
   "execution_count": 11,
   "id": "713efe05",
   "metadata": {},
   "outputs": [],
   "source": [
    "class cylinder:\n",
    "    def __init__(self, height = 1, radius = 1):\n",
    "        self.height = height\n",
    "        self.radius = radius\n",
    "    def volume(self):\n",
    "        \n",
    "        return self.height*3.14*(self.radius)**2\n",
    "    \n",
    "    def surface_area(self):\n",
    "        \n",
    "        top = 3.14*(self.radius**2)\n",
    "        \n",
    "        return(2*top) + (2*3.14*self.radius*self.height)"
   ]
  },
  {
   "cell_type": "code",
   "execution_count": 12,
   "id": "ffa17840",
   "metadata": {},
   "outputs": [
    {
     "data": {
      "text/plain": [
       "56.52"
      ]
     },
     "execution_count": 12,
     "metadata": {},
     "output_type": "execute_result"
    }
   ],
   "source": [
    "mycylinder = cylinder(2,3)\n",
    "mycylinder.volume()"
   ]
  },
  {
   "cell_type": "code",
   "execution_count": 13,
   "id": "5e48fca0",
   "metadata": {},
   "outputs": [
    {
     "data": {
      "text/plain": [
       "94.2"
      ]
     },
     "execution_count": 13,
     "metadata": {},
     "output_type": "execute_result"
    }
   ],
   "source": [
    "mycylinder.surface_area()"
   ]
  },
  {
   "cell_type": "code",
   "execution_count": 36,
   "id": "1e59d804",
   "metadata": {},
   "outputs": [],
   "source": [
    "class bankacc:\n",
    "    def __init__(self,owner,balance):\n",
    "        \n",
    "        self.owner = owner\n",
    "        self.balance = balance\n",
    "    def deposit(self,amountdeposit):\n",
    "        \n",
    "        \n",
    "        self.balance = self.balance + amountdeposit\n",
    "        return f\"{amountdeposit} amount deposited in acc\"\n",
    "        \n",
    "    def withdrawal(self,amountwithdrawal):\n",
    "        \n",
    "        \n",
    "         if self.balance >= amountwithdrawal:\n",
    "                \n",
    "            self.balance = self.balance - amountwithdrawal\n",
    "            return f\"{amountwithdrawal} amount has been withdrawn\"\n",
    "         else:\n",
    "            \n",
    "            return \"SORRY NOT ENOUGH FUNDS!\"\n",
    "        \n",
    "    def __str__(self):\n",
    "        return f\" owner:{self.owner} \\nbalance:{self.balance}\"\n",
    "        \n",
    "        "
   ]
  },
  {
   "cell_type": "code",
   "execution_count": null,
   "id": "8edd031e",
   "metadata": {},
   "outputs": [],
   "source": []
  },
  {
   "cell_type": "code",
   "execution_count": 37,
   "id": "18e71808",
   "metadata": {},
   "outputs": [
    {
     "data": {
      "text/plain": [
       "'9000 amount deposited in acc'"
      ]
     },
     "execution_count": 37,
     "metadata": {},
     "output_type": "execute_result"
    }
   ],
   "source": [
    "acc1 = bankacc(\"ramesh\",12000)\n",
    "acc1.deposit(9000)"
   ]
  },
  {
   "cell_type": "code",
   "execution_count": 38,
   "id": "71cb996f",
   "metadata": {},
   "outputs": [
    {
     "data": {
      "text/plain": [
       "21000"
      ]
     },
     "execution_count": 38,
     "metadata": {},
     "output_type": "execute_result"
    }
   ],
   "source": [
    "acc1.balance"
   ]
  },
  {
   "cell_type": "code",
   "execution_count": 39,
   "id": "3d546a53",
   "metadata": {},
   "outputs": [
    {
     "name": "stdout",
     "output_type": "stream",
     "text": [
      " owner:ramesh \n",
      "balance:21000\n"
     ]
    }
   ],
   "source": [
    "print(acc1)"
   ]
  },
  {
   "cell_type": "code",
   "execution_count": 40,
   "id": "12e7e9c1",
   "metadata": {},
   "outputs": [
    {
     "data": {
      "text/plain": [
       "'1000 amount has been withdrawn'"
      ]
     },
     "execution_count": 40,
     "metadata": {},
     "output_type": "execute_result"
    }
   ],
   "source": [
    "acc1.withdrawal(1000)"
   ]
  },
  {
   "cell_type": "code",
   "execution_count": 41,
   "id": "3133f44c",
   "metadata": {},
   "outputs": [
    {
     "data": {
      "text/plain": [
       "20000"
      ]
     },
     "execution_count": 41,
     "metadata": {},
     "output_type": "execute_result"
    }
   ],
   "source": [
    "acc1.balance"
   ]
  },
  {
   "cell_type": "code",
   "execution_count": 42,
   "id": "fd992504",
   "metadata": {},
   "outputs": [
    {
     "data": {
      "text/plain": [
       "'SORRY NOT ENOUGH FUNDS!'"
      ]
     },
     "execution_count": 42,
     "metadata": {},
     "output_type": "execute_result"
    }
   ],
   "source": [
    "acc1.withdrawal(30000)"
   ]
  },
  {
   "cell_type": "code",
   "execution_count": 43,
   "id": "0ece6a55",
   "metadata": {},
   "outputs": [
    {
     "data": {
      "text/plain": [
       "20000"
      ]
     },
     "execution_count": 43,
     "metadata": {},
     "output_type": "execute_result"
    }
   ],
   "source": [
    "acc1.balance"
   ]
  },
  {
   "cell_type": "code",
   "execution_count": null,
   "id": "83550714",
   "metadata": {},
   "outputs": [],
   "source": []
  }
 ],
 "metadata": {
  "kernelspec": {
   "display_name": "Python 3 (ipykernel)",
   "language": "python",
   "name": "python3"
  },
  "language_info": {
   "codemirror_mode": {
    "name": "ipython",
    "version": 3
   },
   "file_extension": ".py",
   "mimetype": "text/x-python",
   "name": "python",
   "nbconvert_exporter": "python",
   "pygments_lexer": "ipython3",
   "version": "3.9.12"
  }
 },
 "nbformat": 4,
 "nbformat_minor": 5
}
